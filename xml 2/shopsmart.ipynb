{
 "cells": [
  {
   "cell_type": "code",
   "execution_count": 1,
   "metadata": {},
   "outputs": [
    {
     "name": "stdout",
     "output_type": "stream",
     "text": [
      "<html><body>\n",
      "<h1>shopsmart</h1>\n",
      "<table border=\"1\">\n",
      "<tr>\n",
      "<th>Product ID</th>\n",
      "<th>Product Name</th>\n",
      "<th>Price</th>\n",
      "<th>Description</th>\n",
      "</tr>\n",
      "<tr>\n",
      "<td>1</td>\n",
      "<td>Laptop</td>\n",
      "<td>999.99</td>\n",
      "<td>Powerful laptop with great features.</td>\n",
      "</tr>\n",
      "<tr>\n",
      "<td>2</td>\n",
      "<td>frock</td>\n",
      "<td>900</td>\n",
      "<td>Pure cotton dress</td>\n",
      "</tr>\n",
      "<tr>\n",
      "<td>3</td>\n",
      "<td>back bag</td>\n",
      "<td>1000</td>\n",
      "<td>High quality bag with comfortable </td>\n",
      "</tr>\n",
      "</table>\n",
      "</body></html>\n",
      "\n",
      "Validation successful!\n"
     ]
    }
   ],
   "source": [
    "from lxml import etree\n",
    "\n",
    "# Load XML and XSL files\n",
    "\n",
    "xml = etree.parse(\"shopsmart.xml\")\n",
    "xsl = etree.parse(\"shopsmart.xsl\")\n",
    "xsd = etree.parse(\"shopsmart.xsd\") \n",
    "\n",
    "\n",
    "# Apply XSL transformation\n",
    "transform = etree.XSLT(xsl)\n",
    "html = transform(xml)\n",
    "print(html)\n",
    "\n",
    "# Save transformed HTML to a file\n",
    "with open('shopsmartpraser.html', 'wb') as output_file:\n",
    "    output_file.write(etree.tostring(html, pretty_print=True))\n",
    "\n",
    "# Load XSD schema\n",
    "schema = etree.XMLSchema(xsd)\n",
    "\n",
    "\n",
    "# Validate transformed HTML against XSD schema\n",
    "validation_result = schema.validate(xml)\n",
    "\n",
    "if validation_result:\n",
    "    print(\"Validation successful!\")\n",
    "else:\n",
    "    print(\"Validation errors:\")\n",
    "    print(\"Validation Result :\",validation_result)\n",
    "    print(schema.error_log)"
   ]
  }
 ],
 "metadata": {
  "kernelspec": {
   "display_name": "Python 3",
   "language": "python",
   "name": "python3"
  },
  "language_info": {
   "codemirror_mode": {
    "name": "ipython",
    "version": 3
   },
   "file_extension": ".py",
   "mimetype": "text/x-python",
   "name": "python",
   "nbconvert_exporter": "python",
   "pygments_lexer": "ipython3",
   "version": "3.11.4"
  },
  "orig_nbformat": 4
 },
 "nbformat": 4,
 "nbformat_minor": 2
}
